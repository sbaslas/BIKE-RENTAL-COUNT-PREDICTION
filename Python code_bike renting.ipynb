{
 "cells": [
  {
   "cell_type": "code",
   "execution_count": 1,
   "metadata": {},
   "outputs": [],
   "source": [
    "#load libraries-\n",
    "import os\n",
    "import pandas as pd\n",
    "import numpy as np\n",
    "import matplotlib.pyplot as plt\n",
    "import seaborn as sns\n",
    "from ggplot import *\n",
    "from sklearn.metrics import r2_score\n",
    "from scipy import stats"
   ]
  },
  {
   "cell_type": "code",
   "execution_count": 2,
   "metadata": {},
   "outputs": [
    {
     "data": {
      "text/plain": [
       "'D:\\\\DATA SCIENCE STUDY METERIAL\\\\Projects\\\\Bike renting'"
      ]
     },
     "execution_count": 2,
     "metadata": {},
     "output_type": "execute_result"
    }
   ],
   "source": [
    "###set working directory###\n",
    "os.chdir(\"D:\\DATA SCIENCE STUDY METERIAL\\Projects\\Bike renting\")\n",
    "os.getcwd()"
   ]
  },
  {
   "cell_type": "code",
   "execution_count": 3,
   "metadata": {},
   "outputs": [
    {
     "data": {
      "text/html": [
       "<div>\n",
       "<table border=\"1\" class=\"dataframe\">\n",
       "  <thead>\n",
       "    <tr style=\"text-align: right;\">\n",
       "      <th></th>\n",
       "      <th>instant</th>\n",
       "      <th>dteday</th>\n",
       "      <th>season</th>\n",
       "      <th>yr</th>\n",
       "      <th>mnth</th>\n",
       "      <th>holiday</th>\n",
       "      <th>weekday</th>\n",
       "      <th>workingday</th>\n",
       "      <th>weathersit</th>\n",
       "      <th>temp</th>\n",
       "      <th>atemp</th>\n",
       "      <th>hum</th>\n",
       "      <th>windspeed</th>\n",
       "      <th>casual</th>\n",
       "      <th>registered</th>\n",
       "      <th>cnt</th>\n",
       "    </tr>\n",
       "  </thead>\n",
       "  <tbody>\n",
       "    <tr>\n",
       "      <th>0</th>\n",
       "      <td>1</td>\n",
       "      <td>2011-01-01</td>\n",
       "      <td>1</td>\n",
       "      <td>0</td>\n",
       "      <td>1</td>\n",
       "      <td>0</td>\n",
       "      <td>6</td>\n",
       "      <td>0</td>\n",
       "      <td>2</td>\n",
       "      <td>0.344167</td>\n",
       "      <td>0.363625</td>\n",
       "      <td>0.805833</td>\n",
       "      <td>0.160446</td>\n",
       "      <td>331</td>\n",
       "      <td>654</td>\n",
       "      <td>985</td>\n",
       "    </tr>\n",
       "    <tr>\n",
       "      <th>1</th>\n",
       "      <td>2</td>\n",
       "      <td>2011-01-02</td>\n",
       "      <td>1</td>\n",
       "      <td>0</td>\n",
       "      <td>1</td>\n",
       "      <td>0</td>\n",
       "      <td>0</td>\n",
       "      <td>0</td>\n",
       "      <td>2</td>\n",
       "      <td>0.363478</td>\n",
       "      <td>0.353739</td>\n",
       "      <td>0.696087</td>\n",
       "      <td>0.248539</td>\n",
       "      <td>131</td>\n",
       "      <td>670</td>\n",
       "      <td>801</td>\n",
       "    </tr>\n",
       "    <tr>\n",
       "      <th>2</th>\n",
       "      <td>3</td>\n",
       "      <td>2011-01-03</td>\n",
       "      <td>1</td>\n",
       "      <td>0</td>\n",
       "      <td>1</td>\n",
       "      <td>0</td>\n",
       "      <td>1</td>\n",
       "      <td>1</td>\n",
       "      <td>1</td>\n",
       "      <td>0.196364</td>\n",
       "      <td>0.189405</td>\n",
       "      <td>0.437273</td>\n",
       "      <td>0.248309</td>\n",
       "      <td>120</td>\n",
       "      <td>1229</td>\n",
       "      <td>1349</td>\n",
       "    </tr>\n",
       "    <tr>\n",
       "      <th>3</th>\n",
       "      <td>4</td>\n",
       "      <td>2011-01-04</td>\n",
       "      <td>1</td>\n",
       "      <td>0</td>\n",
       "      <td>1</td>\n",
       "      <td>0</td>\n",
       "      <td>2</td>\n",
       "      <td>1</td>\n",
       "      <td>1</td>\n",
       "      <td>0.200000</td>\n",
       "      <td>0.212122</td>\n",
       "      <td>0.590435</td>\n",
       "      <td>0.160296</td>\n",
       "      <td>108</td>\n",
       "      <td>1454</td>\n",
       "      <td>1562</td>\n",
       "    </tr>\n",
       "    <tr>\n",
       "      <th>4</th>\n",
       "      <td>5</td>\n",
       "      <td>2011-01-05</td>\n",
       "      <td>1</td>\n",
       "      <td>0</td>\n",
       "      <td>1</td>\n",
       "      <td>0</td>\n",
       "      <td>3</td>\n",
       "      <td>1</td>\n",
       "      <td>1</td>\n",
       "      <td>0.226957</td>\n",
       "      <td>0.229270</td>\n",
       "      <td>0.436957</td>\n",
       "      <td>0.186900</td>\n",
       "      <td>82</td>\n",
       "      <td>1518</td>\n",
       "      <td>1600</td>\n",
       "    </tr>\n",
       "  </tbody>\n",
       "</table>\n",
       "</div>"
      ],
      "text/plain": [
       "   instant      dteday  season  yr  mnth  holiday  weekday  workingday  \\\n",
       "0        1  2011-01-01       1   0     1        0        6           0   \n",
       "1        2  2011-01-02       1   0     1        0        0           0   \n",
       "2        3  2011-01-03       1   0     1        0        1           1   \n",
       "3        4  2011-01-04       1   0     1        0        2           1   \n",
       "4        5  2011-01-05       1   0     1        0        3           1   \n",
       "\n",
       "   weathersit      temp     atemp       hum  windspeed  casual  registered  \\\n",
       "0           2  0.344167  0.363625  0.805833   0.160446     331         654   \n",
       "1           2  0.363478  0.353739  0.696087   0.248539     131         670   \n",
       "2           1  0.196364  0.189405  0.437273   0.248309     120        1229   \n",
       "3           1  0.200000  0.212122  0.590435   0.160296     108        1454   \n",
       "4           1  0.226957  0.229270  0.436957   0.186900      82        1518   \n",
       "\n",
       "    cnt  \n",
       "0   985  \n",
       "1   801  \n",
       "2  1349  \n",
       "3  1562  \n",
       "4  1600  "
      ]
     },
     "execution_count": 3,
     "metadata": {},
     "output_type": "execute_result"
    }
   ],
   "source": [
    "### Load Bike renting Data CSV file ###\n",
    "df= pd.read_csv(\"day.csv\")\n",
    "df.head()"
   ]
  },
  {
   "cell_type": "markdown",
   "metadata": {},
   "source": [
    "# 1.3 Expletory Data Analysis"
   ]
  },
  {
   "cell_type": "markdown",
   "metadata": {},
   "source": [
    "## 1.3.1. Data Understanding"
   ]
  },
  {
   "cell_type": "code",
   "execution_count": 4,
   "metadata": {},
   "outputs": [
    {
     "name": "stdout",
     "output_type": "stream",
     "text": [
      "<class 'pandas.core.frame.DataFrame'>\n",
      "(731, 16)\n",
      "instant         int64\n",
      "dteday         object\n",
      "season          int64\n",
      "yr              int64\n",
      "mnth            int64\n",
      "holiday         int64\n",
      "weekday         int64\n",
      "workingday      int64\n",
      "weathersit      int64\n",
      "temp          float64\n",
      "atemp         float64\n",
      "hum           float64\n",
      "windspeed     float64\n",
      "casual          int64\n",
      "registered      int64\n",
      "cnt             int64\n",
      "dtype: object\n"
     ]
    }
   ],
   "source": [
    "print(type(df))\n",
    "print(df.shape)\n",
    "print(df.dtypes)"
   ]
  },
  {
   "cell_type": "code",
   "execution_count": 5,
   "metadata": {},
   "outputs": [
    {
     "name": "stdout",
     "output_type": "stream",
     "text": [
      "Index(['instant', 'dteday', 'season', 'yr', 'mnth', 'holiday', 'weekday',\n",
      "       'workingday', 'weathersit', 'temp', 'atemp', 'hum', 'windspeed',\n",
      "       'casual', 'registered', 'cnt'],\n",
      "      dtype='object')\n",
      "(731, 16)\n"
     ]
    }
   ],
   "source": [
    "print(df.columns)\n",
    "print(df.shape)"
   ]
  },
  {
   "cell_type": "markdown",
   "metadata": {},
   "source": [
    "## 1.3.2. Data Pre Observation"
   ]
  },
  {
   "cell_type": "code",
   "execution_count": 6,
   "metadata": {},
   "outputs": [],
   "source": [
    "#store categorical and continuous Variable column names\n",
    "cat_var=[\"season\",\"yr\",\"mnth\",\"holiday\",\"weekday\",\"workingday\",\"weathersit\"]\n",
    "numeric_var=['temp', 'atemp', 'hum', 'windspeed', 'casual', 'registered', 'cnt']"
   ]
  },
  {
   "cell_type": "code",
   "execution_count": 7,
   "metadata": {},
   "outputs": [
    {
     "name": "stdout",
     "output_type": "stream",
     "text": [
      "instant         int64\n",
      "dteday         object\n",
      "season         object\n",
      "yr             object\n",
      "mnth           object\n",
      "holiday        object\n",
      "weekday        object\n",
      "workingday     object\n",
      "weathersit     object\n",
      "temp          float64\n",
      "atemp         float64\n",
      "hum           float64\n",
      "windspeed     float64\n",
      "casual          int64\n",
      "registered      int64\n",
      "cnt             int64\n",
      "dtype: object\n"
     ]
    }
   ],
   "source": [
    "#convert the data type of categorical variables to factor from integer\n",
    "for i in cat_var:\n",
    "    df.loc[:,i] = df.loc[:i].astype(object)\n",
    "    \n",
    "print(df.dtypes)"
   ]
  },
  {
   "cell_type": "code",
   "execution_count": 8,
   "metadata": {},
   "outputs": [
    {
     "name": "stdout",
     "output_type": "stream",
     "text": [
      "count    731.000000\n",
      "mean       0.495385\n",
      "std        0.183051\n",
      "min        0.059130\n",
      "25%        0.337083\n",
      "50%        0.498333\n",
      "75%        0.655417\n",
      "max        0.861667\n",
      "Name: temp, dtype: float64\n",
      "count    731.000000\n",
      "mean       0.474354\n",
      "std        0.162961\n",
      "min        0.079070\n",
      "25%        0.337842\n",
      "50%        0.486733\n",
      "75%        0.608602\n",
      "max        0.840896\n",
      "Name: atemp, dtype: float64\n",
      "count    731.000000\n",
      "mean       0.627894\n",
      "std        0.142429\n",
      "min        0.000000\n",
      "25%        0.520000\n",
      "50%        0.626667\n",
      "75%        0.730209\n",
      "max        0.972500\n",
      "Name: hum, dtype: float64\n",
      "count    731.000000\n",
      "mean       0.190486\n",
      "std        0.077498\n",
      "min        0.022392\n",
      "25%        0.134950\n",
      "50%        0.180975\n",
      "75%        0.233214\n",
      "max        0.507463\n",
      "Name: windspeed, dtype: float64\n",
      "count     731.000000\n",
      "mean      848.176471\n",
      "std       686.622488\n",
      "min         2.000000\n",
      "25%       315.500000\n",
      "50%       713.000000\n",
      "75%      1096.000000\n",
      "max      3410.000000\n",
      "Name: casual, dtype: float64\n",
      "count     731.000000\n",
      "mean     3656.172367\n",
      "std      1560.256377\n",
      "min        20.000000\n",
      "25%      2497.000000\n",
      "50%      3662.000000\n",
      "75%      4776.500000\n",
      "max      6946.000000\n",
      "Name: registered, dtype: float64\n",
      "count     731.000000\n",
      "mean     4504.348837\n",
      "std      1937.211452\n",
      "min        22.000000\n",
      "25%      3152.000000\n",
      "50%      4548.000000\n",
      "75%      5956.000000\n",
      "max      8714.000000\n",
      "Name: cnt, dtype: float64\n",
      "count     731\n",
      "unique      4\n",
      "top         3\n",
      "freq      188\n",
      "Name: season, dtype: int64\n",
      "count     731\n",
      "unique      2\n",
      "top         1\n",
      "freq      366\n",
      "Name: yr, dtype: int64\n",
      "count     731\n",
      "unique     12\n",
      "top        12\n",
      "freq       62\n",
      "Name: mnth, dtype: int64\n",
      "count     731\n",
      "unique      2\n",
      "top         0\n",
      "freq      710\n",
      "Name: holiday, dtype: int64\n",
      "count     731\n",
      "unique      7\n",
      "top         6\n",
      "freq      105\n",
      "Name: weekday, dtype: int64\n",
      "count     731\n",
      "unique      2\n",
      "top         1\n",
      "freq      500\n",
      "Name: workingday, dtype: int64\n",
      "count     731\n",
      "unique      3\n",
      "top         1\n",
      "freq      463\n",
      "Name: weathersit, dtype: int64\n"
     ]
    }
   ],
   "source": [
    "for i in numeric_var:                                      \n",
    "    print(df.loc[:,i].describe())                             #Checking Numerical variables summary\n",
    "    \n",
    "for i in cat_var:\n",
    "    print(df.loc[:,i].describe())                             #Checking Categorical variable summary"
   ]
  },
  {
   "cell_type": "code",
   "execution_count": 9,
   "metadata": {},
   "outputs": [],
   "source": [
    "#Bar graph for Categorical variables\n",
    "def plot_bar(x, y, method = 'sum'):\n",
    "    fig, ax = plt.subplots(nrows = 1, ncols = 1, figsize= (12,4), squeeze=False)\n",
    "    super_title = fig.suptitle(\"Bar Plot \",  fontsize='x-large')\n",
    "    gp = df.groupby(by = x).sum()\n",
    "    gp = gp.reset_index()\n",
    "    sns.barplot(x= x, y = y, data = gp, ax=ax[0][0])\n",
    "    fig.subplots_adjust(top = 0.90)\n",
    "    plt.show()\n"
   ]
  },
  {
   "cell_type": "code",
   "execution_count": 10,
   "metadata": {},
   "outputs": [
    {
     "data": {
      "image/png": "[encoded data removed]",
      "text/plain": [
       "<Figure size 864x288 with 1 Axes>"
      ]
     },
     "metadata": {
      "needs_background": "light"
     },
     "output_type": "display_data"
    },
    {
     "data": {
      "image/png": "[encoded data removed]",
      "text/plain": [
       "<Figure size 864x288 with 1 Axes>"
      ]
     },
     "metadata": {
      "needs_background": "light"
     },
     "output_type": "display_data"
    },
    {
     "data": {
      "image/png": "[encoded data removed]",
      "text/plain": [
       "<Figure size 864x288 with 1 Axes>"
      ]
     },
     "metadata": {
      "needs_background": "light"
     },
     "output_type": "display_data"
    },
    {
     "data": {
      "image/png": "[encoded data removed]",
      "text/plain": [
       "<Figure size 864x288 with 1 Axes>"
      ]
     },
     "metadata": {
      "needs_background": "light"
     },
     "output_type": "display_data"
    },
    {
     "data": {
      "image/png": "[encoded data removed]",
      "text/plain": [
       "<Figure size 864x288 with 1 Axes>"
      ]
     },
     "metadata": {
      "needs_background": "light"
     },
     "output_type": "display_data"
    }
   ],
   "source": [
    "plot_bar('season','cnt')\n",
    "plot_bar('yr','cnt')\n",
    "plot_bar('mnth','cnt')\n",
    "plot_bar('weekday','cnt')\n",
    "plot_bar('weathersit','cnt')"
   ]
  },
  {
   "cell_type": "code",
   "execution_count": null,
   "metadata": {},
   "outputs": [],
   "source": []
  },
  {
   "cell_type": "code",
   "execution_count": 11,
   "metadata": {},
   "outputs": [
    {
     "name": "stdout",
     "output_type": "stream",
     "text": [
      "temp\n"
     ]
    },
    {
     "data": {
      "image/png": "[encoded data removed]",
      "text/plain": [
       "<Figure size 432x288 with 1 Axes>"
      ]
     },
     "metadata": {
      "needs_background": "light"
     },
     "output_type": "display_data"
    },
    {
     "name": "stdout",
     "output_type": "stream",
     "text": [
      "atemp\n"
     ]
    },
    {
     "data": {
      "image/png": "[encoded data removed]",
      "text/plain": [
       "<Figure size 432x288 with 1 Axes>"
      ]
     },
     "metadata": {
      "needs_background": "light"
     },
     "output_type": "display_data"
    },
    {
     "name": "stdout",
     "output_type": "stream",
     "text": [
      "hum\n"
     ]
    },
    {
     "data": {
      "image/png": "[encoded data removed]",
      "text/plain": [
       "<Figure size 432x288 with 1 Axes>"
      ]
     },
     "metadata": {
      "needs_background": "light"
     },
     "output_type": "display_data"
    },
    {
     "name": "stdout",
     "output_type": "stream",
     "text": [
      "windspeed\n"
     ]
    },
    {
     "data": {
      "image/png": "[encoded data removed]",
      "text/plain": [
       "<Figure size 432x288 with 1 Axes>"
      ]
     },
     "metadata": {
      "needs_background": "light"
     },
     "output_type": "display_data"
    },
    {
     "name": "stdout",
     "output_type": "stream",
     "text": [
      "casual\n"
     ]
    },
    {
     "data": {
      "image/png": "[encoded data removed]",
      "text/plain": [
       "<Figure size 432x288 with 1 Axes>"
      ]
     },
     "metadata": {
      "needs_background": "light"
     },
     "output_type": "display_data"
    },
    {
     "name": "stdout",
     "output_type": "stream",
     "text": [
      "registered\n"
     ]
    },
    {
     "data": {
      "image/png": "[encoded data removed]",
      "text/plain": [
       "<Figure size 432x288 with 1 Axes>"
      ]
     },
     "metadata": {
      "needs_background": "light"
     },
     "output_type": "display_data"
    },
    {
     "name": "stdout",
     "output_type": "stream",
     "text": [
      "cnt\n"
     ]
    },
    {
     "data": {
      "image/png": "[encoded data removed]",
      "text/plain": [
       "<Figure size 432x288 with 1 Axes>"
      ]
     },
     "metadata": {
      "needs_background": "light"
     },
     "output_type": "display_data"
    }
   ],
   "source": [
    "#distribution check and Histogram for continuous variables\n",
    "for i in numeric_var:\n",
    "    print(i)\n",
    "    sns.distplot(df[i],bins='auto',color='green')\n",
    "    plt.title(\"Distribution for Variable \"+i)\n",
    "    plt.ylabel(\"Density\")\n",
    "    plt.show()"
   ]
  },
  {
   "cell_type": "markdown",
   "metadata": {},
   "source": [
    "#  2.1 Data Preprocessing"
   ]
  },
  {
   "cell_type": "markdown",
   "metadata": {},
   "source": [
    "## 2.1.1. Missing Value Analysis"
   ]
  },
  {
   "cell_type": "code",
   "execution_count": 12,
   "metadata": {},
   "outputs": [
    {
     "data": {
      "text/plain": [
       "instant       0\n",
       "dteday        0\n",
       "season        0\n",
       "yr            0\n",
       "mnth          0\n",
       "holiday       0\n",
       "weekday       0\n",
       "workingday    0\n",
       "weathersit    0\n",
       "temp          0\n",
       "atemp         0\n",
       "hum           0\n",
       "windspeed     0\n",
       "casual        0\n",
       "registered    0\n",
       "cnt           0\n",
       "dtype: int64"
      ]
     },
     "execution_count": 12,
     "metadata": {},
     "output_type": "execute_result"
    }
   ],
   "source": [
    "###################  2.1.1.\tMissing Value Analysis  #######################\n",
    "df.isnull().sum()"
   ]
  },
  {
   "cell_type": "markdown",
   "metadata": {},
   "source": [
    "## 2.1.2. Outlier Analysis"
   ]
  },
  {
   "cell_type": "code",
   "execution_count": 13,
   "metadata": {},
   "outputs": [
    {
     "name": "stdout",
     "output_type": "stream",
     "text": [
      "temp\n"
     ]
    },
    {
     "data": {
      "image/png": "[encoded data removed]",
      "text/plain": [
       "<Figure size 432x288 with 1 Axes>"
      ]
     },
     "metadata": {
      "needs_background": "light"
     },
     "output_type": "display_data"
    },
    {
     "name": "stdout",
     "output_type": "stream",
     "text": [
      "atemp\n"
     ]
    },
    {
     "data": {
      "image/png": "[encoded data removed]",
      "text/plain": [
       "<Figure size 432x288 with 1 Axes>"
      ]
     },
     "metadata": {
      "needs_background": "light"
     },
     "output_type": "display_data"
    },
    {
     "name": "stdout",
     "output_type": "stream",
     "text": [
      "hum\n"
     ]
    },
    {
     "data": {
      "image/png": "[encoded data removed]",
      "text/plain": [
       "<Figure size 432x288 with 1 Axes>"
      ]
     },
     "metadata": {
      "needs_background": "light"
     },
     "output_type": "display_data"
    },
    {
     "name": "stdout",
     "output_type": "stream",
     "text": [
      "windspeed\n"
     ]
    },
    {
     "data": {
      "image/png": "[encoded data removed]",
      "text/plain": [
       "<Figure size 432x288 with 1 Axes>"
      ]
     },
     "metadata": {
      "needs_background": "light"
     },
     "output_type": "display_data"
    },
    {
     "name": "stdout",
     "output_type": "stream",
     "text": [
      "casual\n"
     ]
    },
    {
     "data": {
      "image/png": "[encoded data removed]",
      "text/plain": [
       "<Figure size 432x288 with 1 Axes>"
      ]
     },
     "metadata": {
      "needs_background": "light"
     },
     "output_type": "display_data"
    },
    {
     "name": "stdout",
     "output_type": "stream",
     "text": [
      "registered\n"
     ]
    },
    {
     "data": {
      "image/png": "[encoded data removed]",
      "text/plain": [
       "<Figure size 432x288 with 1 Axes>"
      ]
     },
     "metadata": {
      "needs_background": "light"
     },
     "output_type": "display_data"
    },
    {
     "name": "stdout",
     "output_type": "stream",
     "text": [
      "cnt\n"
     ]
    },
    {
     "data": {
      "image/png": "[encoded data removed]",
      "text/plain": [
       "<Figure size 432x288 with 1 Axes>"
      ]
     },
     "metadata": {
      "needs_background": "light"
     },
     "output_type": "display_data"
    }
   ],
   "source": [
    "cnames=['temp', 'atemp', 'hum', 'windspeed', 'casual', 'registered', 'cnt']\n",
    "\n",
    "#create Box plot for outlier analysis\n",
    "for i in cnames:\n",
    "    print(i)\n",
    "    sns.boxplot(y=df[i])\n",
    "    plt.xlabel(i)\n",
    "    plt.ylabel(\"values\")\n",
    "    plt.title(\"Boxplot of \"+i)\n",
    "    plt.show()"
   ]
  },
  {
   "cell_type": "code",
   "execution_count": 14,
   "metadata": {},
   "outputs": [
    {
     "name": "stdout",
     "output_type": "stream",
     "text": [
      "temp\n",
      "min= -0.14041600000000015\n",
      "max= 1.1329160000000003\n",
      "IQR= 0.3183330000000001\n",
      "atemp\n",
      "min= -0.06829675000000018\n",
      "max= 1.0147412500000002\n",
      "IQR= 0.2707595000000001\n",
      "hum\n",
      "min= 0.20468725\n",
      "max= 1.0455212500000002\n",
      "IQR= 0.21020850000000002\n",
      "windspeed\n",
      "min= -0.012446750000000034\n",
      "max= 0.38061125\n",
      "IQR= 0.0982645\n",
      "casual\n",
      "min= -855.25\n",
      "max= 2266.75\n",
      "IQR= 780.5\n",
      "registered\n",
      "min= -922.25\n",
      "max= 8195.75\n",
      "IQR= 2279.5\n",
      "cnt\n",
      "min= -1054.0\n",
      "max= 10162.0\n",
      "IQR= 2804.0\n"
     ]
    }
   ],
   "source": [
    "#calculate iqr, lower fence and upper fence-\n",
    "for i in cnames:\n",
    "    print(i)\n",
    "    q75,q25= np.percentile(df.loc[:,i],[75,25])\n",
    "    iqr= q75-q25\n",
    "    minimum= q25-(iqr*1.5)\n",
    "    maximum= q75+(iqr*1.5)\n",
    "    print(\"min= \"+str(minimum))\n",
    "    print(\"max= \"+str(maximum))\n",
    "    print(\"IQR= \"+str(iqr))\n",
    "    \n",
    "#replace outliers with NA-\n",
    "    df.loc[df[i]<minimum,i]=np.nan\n",
    "    df.loc[df[i]>maximum,i]=np.nan   "
   ]
  },
  {
   "cell_type": "code",
   "execution_count": 15,
   "metadata": {},
   "outputs": [
    {
     "name": "stdout",
     "output_type": "stream",
     "text": [
      "instant       0\n",
      "dteday        0\n",
      "season        0\n",
      "yr            0\n",
      "mnth          0\n",
      "holiday       0\n",
      "weekday       0\n",
      "workingday    0\n",
      "weathersit    0\n",
      "temp          0\n",
      "atemp         0\n",
      "hum           0\n",
      "windspeed     0\n",
      "casual        0\n",
      "registered    0\n",
      "cnt           0\n",
      "dtype: int64\n"
     ]
    }
   ],
   "source": [
    "#impute NA with median-\n",
    "df['hum']=df['hum'].fillna(df['hum'].median())\n",
    "df['windspeed']=df['windspeed'].fillna(df['windspeed'].median())\n",
    "df['casual']=df['casual'].fillna(df['casual'].median())\n",
    "\n",
    "#check NA in data-\n",
    "print(df.isnull().sum())"
   ]
  },
  {
   "cell_type": "markdown",
   "metadata": {},
   "source": [
    "# 2.1.3. Feature selection"
   ]
  },
  {
   "cell_type": "code",
   "execution_count": 16,
   "metadata": {},
   "outputs": [
    {
     "name": "stdout",
     "output_type": "stream",
     "text": [
      "                temp     atemp       hum  windspeed    casual  registered  \\\n",
      "temp        1.000000  0.991702  0.123723  -0.138937  0.579585    0.540012   \n",
      "atemp       0.991702  1.000000  0.137312  -0.164157  0.578667    0.544192   \n",
      "hum         0.123723  0.137312  1.000000  -0.200237 -0.078884   -0.112172   \n",
      "windspeed  -0.138937 -0.164157 -0.200237   1.000000 -0.178590   -0.203055   \n",
      "casual      0.579585  0.578667 -0.078884  -0.178590  1.000000    0.421641   \n",
      "registered  0.540012  0.544192 -0.112172  -0.203055  0.421641    1.000000   \n",
      "cnt         0.627494  0.631066 -0.121454  -0.215203  0.593953    0.945517   \n",
      "\n",
      "                 cnt  \n",
      "temp        0.627494  \n",
      "atemp       0.631066  \n",
      "hum        -0.121454  \n",
      "windspeed  -0.215203  \n",
      "casual      0.593953  \n",
      "registered  0.945517  \n",
      "cnt         1.000000  \n"
     ]
    }
   ],
   "source": [
    "#correlation analysis for numeric variables-\n",
    "\n",
    "#extract only numeric variables in dataframe for correlation-\n",
    "df_corr= df.loc[:,numeric_var]\n",
    "\n",
    "#generate correlation matrix-\n",
    "corr_matrix= df_corr.corr()\n",
    "(print(corr_matrix))"
   ]
  },
  {
   "cell_type": "code",
   "execution_count": 17,
   "metadata": {},
   "outputs": [
    {
     "data": {
      "text/plain": [
       "Text(0.5, 1.0, 'Correlation Plot')"
      ]
     },
     "execution_count": 17,
     "metadata": {},
     "output_type": "execute_result"
    },
    {
     "data": {
      "image/png": "[encoded data removed]",
      "text/plain": [
       "<Figure size 576x576 with 2 Axes>"
      ]
     },
     "metadata": {
      "needs_background": "light"
     },
     "output_type": "display_data"
    }
   ],
   "source": [
    "#correlation plot-\n",
    "f,ax= plt.subplots(figsize=(8,8))\n",
    "\n",
    "#plot-\n",
    "sns.heatmap(corr_matrix,mask=np.zeros_like(corr_matrix,dtype=np.bool),cmap=sns.diverging_palette(240,120,as_cmap=True),\n",
    "           square=True,ax=ax,annot=True)\n",
    "plt.title(\"Correlation Plot\")"
   ]
  },
  {
   "cell_type": "code",
   "execution_count": 18,
   "metadata": {},
   "outputs": [
    {
     "name": "stdout",
     "output_type": "stream",
     "text": [
      "                sum_sq     df           F        PR(>F)\n",
      "season    9.505959e+08    3.0  128.769622  6.720391e-67\n",
      "Residual  1.788940e+09  727.0         NaN           NaN\n",
      "                sum_sq     df           F        PR(>F)\n",
      "yr        8.798289e+08    1.0  344.890586  2.483540e-63\n",
      "Residual  1.859706e+09  729.0         NaN           NaN\n",
      "                sum_sq     df          F        PR(>F)\n",
      "mnth      1.070192e+09   11.0  41.903703  4.251077e-70\n",
      "Residual  1.669343e+09  719.0        NaN           NaN\n",
      "                sum_sq     df         F    PR(>F)\n",
      "holiday   1.279749e+07    1.0  3.421441  0.064759\n",
      "Residual  2.726738e+09  729.0       NaN       NaN\n",
      "                sum_sq     df         F    PR(>F)\n",
      "weekday   1.765902e+07    6.0  0.782862  0.583494\n",
      "Residual  2.721876e+09  724.0       NaN       NaN\n",
      "                  sum_sq     df         F    PR(>F)\n",
      "workingday  1.024604e+07    1.0  2.736742  0.098495\n",
      "Residual    2.729289e+09  729.0       NaN       NaN\n",
      "                  sum_sq     df          F        PR(>F)\n",
      "weathersit  2.716446e+08    2.0  40.066045  3.106317e-17\n",
      "Residual    2.467891e+09  728.0        NaN           NaN\n"
     ]
    }
   ],
   "source": [
    "#Anova analysis for categorical variable with target numeric variable\n",
    "\n",
    "import statsmodels.api as sm\n",
    "from statsmodels.formula.api import ols\n",
    "\n",
    "label = 'cnt'\n",
    "for  i in cat_var:\n",
    "    frame = label + ' ~ ' + i\n",
    "    model = ols(frame,data=df).fit()\n",
    "    anova = sm.stats.anova_lm(model, typ=2)\n",
    "    print(anova)  "
   ]
  },
  {
   "cell_type": "markdown",
   "metadata": {},
   "source": [
    "## 2.1.5. Data after EDA and preprocessing"
   ]
  },
  {
   "cell_type": "code",
   "execution_count": 19,
   "metadata": {},
   "outputs": [
    {
     "name": "stdout",
     "output_type": "stream",
     "text": [
      "(731, 8)\n"
     ]
    }
   ],
   "source": [
    "#Dimension Reduction-\n",
    "df= df.drop(['instant','dteday','atemp','casual','registered','holiday','weekday','workingday'],axis=1)\n",
    "\n",
    "print(df.shape)"
   ]
  },
  {
   "cell_type": "code",
   "execution_count": 20,
   "metadata": {},
   "outputs": [],
   "source": [
    "df.head()\n",
    "df.to_csv(\"bike data for model development.csv\", index = False)"
   ]
  },
  {
   "cell_type": "code",
   "execution_count": 21,
   "metadata": {},
   "outputs": [],
   "source": [
    "#store categorical and continuous Variable column names\n",
    "cat_var=[\"season\",\"yr\",\"mnth\",\"weathersit\"]\n",
    "numeric_var=['temp', 'hum', 'windspeed', 'cnt']"
   ]
  },
  {
   "cell_type": "code",
   "execution_count": 24,
   "metadata": {},
   "outputs": [],
   "source": [
    "data=df\n",
    "df=data"
   ]
  },
  {
   "cell_type": "code",
   "execution_count": 25,
   "metadata": {},
   "outputs": [
    {
     "data": {
      "text/plain": [
       "(731, 25)"
      ]
     },
     "execution_count": 25,
     "metadata": {},
     "output_type": "execute_result"
    }
   ],
   "source": [
    "# change categorical to numeric making bin for regression model\n",
    "df= pd.get_dummies(df,columns=cat_var)\n",
    "\n",
    "df.shape"
   ]
  },
  {
   "cell_type": "code",
   "execution_count": 26,
   "metadata": {},
   "outputs": [
    {
     "data": {
      "text/html": [
       "<div>\n",
       "<table border=\"1\" class=\"dataframe\">\n",
       "  <thead>\n",
       "    <tr style=\"text-align: right;\">\n",
       "      <th></th>\n",
       "      <th>temp</th>\n",
       "      <th>hum</th>\n",
       "      <th>windspeed</th>\n",
       "      <th>cnt</th>\n",
       "      <th>season_1</th>\n",
       "      <th>season_2</th>\n",
       "      <th>season_3</th>\n",
       "      <th>season_4</th>\n",
       "      <th>yr_0</th>\n",
       "      <th>yr_1</th>\n",
       "      <th>...</th>\n",
       "      <th>mnth_6</th>\n",
       "      <th>mnth_7</th>\n",
       "      <th>mnth_8</th>\n",
       "      <th>mnth_9</th>\n",
       "      <th>mnth_10</th>\n",
       "      <th>mnth_11</th>\n",
       "      <th>mnth_12</th>\n",
       "      <th>weathersit_1</th>\n",
       "      <th>weathersit_2</th>\n",
       "      <th>weathersit_3</th>\n",
       "    </tr>\n",
       "  </thead>\n",
       "  <tbody>\n",
       "    <tr>\n",
       "      <th>0</th>\n",
       "      <td>0.344167</td>\n",
       "      <td>0.805833</td>\n",
       "      <td>0.160446</td>\n",
       "      <td>985.0</td>\n",
       "      <td>1</td>\n",
       "      <td>0</td>\n",
       "      <td>0</td>\n",
       "      <td>0</td>\n",
       "      <td>1</td>\n",
       "      <td>0</td>\n",
       "      <td>...</td>\n",
       "      <td>0</td>\n",
       "      <td>0</td>\n",
       "      <td>0</td>\n",
       "      <td>0</td>\n",
       "      <td>0</td>\n",
       "      <td>0</td>\n",
       "      <td>0</td>\n",
       "      <td>0</td>\n",
       "      <td>1</td>\n",
       "      <td>0</td>\n",
       "    </tr>\n",
       "    <tr>\n",
       "      <th>1</th>\n",
       "      <td>0.363478</td>\n",
       "      <td>0.696087</td>\n",
       "      <td>0.248539</td>\n",
       "      <td>801.0</td>\n",
       "      <td>1</td>\n",
       "      <td>0</td>\n",
       "      <td>0</td>\n",
       "      <td>0</td>\n",
       "      <td>1</td>\n",
       "      <td>0</td>\n",
       "      <td>...</td>\n",
       "      <td>0</td>\n",
       "      <td>0</td>\n",
       "      <td>0</td>\n",
       "      <td>0</td>\n",
       "      <td>0</td>\n",
       "      <td>0</td>\n",
       "      <td>0</td>\n",
       "      <td>0</td>\n",
       "      <td>1</td>\n",
       "      <td>0</td>\n",
       "    </tr>\n",
       "    <tr>\n",
       "      <th>2</th>\n",
       "      <td>0.196364</td>\n",
       "      <td>0.437273</td>\n",
       "      <td>0.248309</td>\n",
       "      <td>1349.0</td>\n",
       "      <td>1</td>\n",
       "      <td>0</td>\n",
       "      <td>0</td>\n",
       "      <td>0</td>\n",
       "      <td>1</td>\n",
       "      <td>0</td>\n",
       "      <td>...</td>\n",
       "      <td>0</td>\n",
       "      <td>0</td>\n",
       "      <td>0</td>\n",
       "      <td>0</td>\n",
       "      <td>0</td>\n",
       "      <td>0</td>\n",
       "      <td>0</td>\n",
       "      <td>1</td>\n",
       "      <td>0</td>\n",
       "      <td>0</td>\n",
       "    </tr>\n",
       "    <tr>\n",
       "      <th>3</th>\n",
       "      <td>0.200000</td>\n",
       "      <td>0.590435</td>\n",
       "      <td>0.160296</td>\n",
       "      <td>1562.0</td>\n",
       "      <td>1</td>\n",
       "      <td>0</td>\n",
       "      <td>0</td>\n",
       "      <td>0</td>\n",
       "      <td>1</td>\n",
       "      <td>0</td>\n",
       "      <td>...</td>\n",
       "      <td>0</td>\n",
       "      <td>0</td>\n",
       "      <td>0</td>\n",
       "      <td>0</td>\n",
       "      <td>0</td>\n",
       "      <td>0</td>\n",
       "      <td>0</td>\n",
       "      <td>1</td>\n",
       "      <td>0</td>\n",
       "      <td>0</td>\n",
       "    </tr>\n",
       "    <tr>\n",
       "      <th>4</th>\n",
       "      <td>0.226957</td>\n",
       "      <td>0.436957</td>\n",
       "      <td>0.186900</td>\n",
       "      <td>1600.0</td>\n",
       "      <td>1</td>\n",
       "      <td>0</td>\n",
       "      <td>0</td>\n",
       "      <td>0</td>\n",
       "      <td>1</td>\n",
       "      <td>0</td>\n",
       "      <td>...</td>\n",
       "      <td>0</td>\n",
       "      <td>0</td>\n",
       "      <td>0</td>\n",
       "      <td>0</td>\n",
       "      <td>0</td>\n",
       "      <td>0</td>\n",
       "      <td>0</td>\n",
       "      <td>1</td>\n",
       "      <td>0</td>\n",
       "      <td>0</td>\n",
       "    </tr>\n",
       "  </tbody>\n",
       "</table>\n",
       "<p>5 rows × 25 columns</p>\n",
       "</div>"
      ],
      "text/plain": [
       "       temp       hum  windspeed     cnt  season_1  season_2  season_3  \\\n",
       "0  0.344167  0.805833   0.160446   985.0         1         0         0   \n",
       "1  0.363478  0.696087   0.248539   801.0         1         0         0   \n",
       "2  0.196364  0.437273   0.248309  1349.0         1         0         0   \n",
       "3  0.200000  0.590435   0.160296  1562.0         1         0         0   \n",
       "4  0.226957  0.436957   0.186900  1600.0         1         0         0   \n",
       "\n",
       "   season_4  yr_0  yr_1      ...       mnth_6  mnth_7  mnth_8  mnth_9  \\\n",
       "0         0     1     0      ...            0       0       0       0   \n",
       "1         0     1     0      ...            0       0       0       0   \n",
       "2         0     1     0      ...            0       0       0       0   \n",
       "3         0     1     0      ...            0       0       0       0   \n",
       "4         0     1     0      ...            0       0       0       0   \n",
       "\n",
       "   mnth_10  mnth_11  mnth_12  weathersit_1  weathersit_2  weathersit_3  \n",
       "0        0        0        0             0             1             0  \n",
       "1        0        0        0             0             1             0  \n",
       "2        0        0        0             1             0             0  \n",
       "3        0        0        0             1             0             0  \n",
       "4        0        0        0             1             0             0  \n",
       "\n",
       "[5 rows x 25 columns]"
      ]
     },
     "execution_count": 26,
     "metadata": {},
     "output_type": "execute_result"
    }
   ],
   "source": [
    "df.head()"
   ]
  },
  {
   "cell_type": "markdown",
   "metadata": {},
   "source": [
    "# 2.2 Model Development"
   ]
  },
  {
   "cell_type": "markdown",
   "metadata": {},
   "source": [
    "## 2.2.1 Model Building"
   ]
  },
  {
   "cell_type": "code",
   "execution_count": 63,
   "metadata": {},
   "outputs": [],
   "source": [
    "#Import libraries-\n",
    "from sklearn.metrics import accuracy_score\n",
    "from sklearn.model_selection import train_test_split\n",
    "from sklearn.metrics import mean_squared_error"
   ]
  },
  {
   "cell_type": "code",
   "execution_count": 64,
   "metadata": {},
   "outputs": [],
   "source": [
    "#Function for Error metrics to calculate the performance of model\n",
    "def MAPE(y_true,y_prediction):\n",
    "    mape= np.mean(np.abs(y_true-y_prediction)/y_true)*100\n",
    "    return mape"
   ]
  },
  {
   "cell_type": "code",
   "execution_count": 65,
   "metadata": {},
   "outputs": [],
   "source": [
    "#split data for predictor and target seperatly-\n",
    "X= df.drop(['cnt'],axis=1)\n",
    "y= df['cnt']"
   ]
  },
  {
   "cell_type": "code",
   "execution_count": 66,
   "metadata": {},
   "outputs": [],
   "source": [
    "#divide data into train and test part\n",
    "X_train,X_test,y_train,y_test= train_test_split(X,y,test_size=.20,random_state=0)"
   ]
  },
  {
   "cell_type": "markdown",
   "metadata": {},
   "source": [
    "## 2.2.1.desision tree for regression"
   ]
  },
  {
   "cell_type": "code",
   "execution_count": 67,
   "metadata": {},
   "outputs": [
    {
     "name": "stdout",
     "output_type": "stream",
     "text": [
      "Mean Absolute Precentage Error for train data=62.26013293672567\n",
      "Mean Absolute Precentage Error for test data=36.94809301452646\n",
      "R^2_score for train data=0.6775629218593628\n",
      "R^2_score for test data=0.6464697716428666\n"
     ]
    }
   ],
   "source": [
    "from sklearn.tree import DecisionTreeRegressor                      #import libraries\n",
    "\n",
    "DT_model= DecisionTreeRegressor(max_depth=2).fit(X_train,y_train)   #Decision tree for regression\n",
    "\n",
    "DT_test= DT_model.predict(X_test)                                   #Model prediction on test data\n",
    "DT_train= DT_model.predict(X_train)                                 #Model prediction on train data\n",
    "\n",
    "\n",
    "MAPE_test= MAPE(y_test,DT_test)                                    #Model performance on test data\n",
    "MAPE_train= MAPE(y_train,DT_train)                                 #Model performance on train data\n",
    "\n",
    "\n",
    "r2_test=r2_score(y_test,DT_test)                                 #r2 value for test data\n",
    "r2_train= r2_score(y_train,DT_train)                               #r2 value for train data\n",
    "\n",
    "\n",
    "print(\"Mean Absolute Precentage Error for train data=\"+str(MAPE_train))\n",
    "print(\"Mean Absolute Precentage Error for test data=\"+str(MAPE_test))\n",
    "print(\"R^2_score for train data=\"+str(r2_train))\n",
    "print(\"R^2_score for test data=\"+str(r2_test))"
   ]
  },
  {
   "cell_type": "code",
   "execution_count": 68,
   "metadata": {},
   "outputs": [],
   "source": [
    "# result\n",
    "df1= {'Model Name': ['Decision Tree'],'MAPE_Train':[MAPE_train],'MAPE_Test':[MAPE_test],'R-squared_Train':[r2_train],\n",
    "      'R-squared_Test':[r2_test]}\n",
    "result1= pd.DataFrame(df1)"
   ]
  },
  {
   "cell_type": "markdown",
   "metadata": {},
   "source": [
    "## 2.2.2. Random forest for regression"
   ]
  },
  {
   "cell_type": "code",
   "execution_count": 69,
   "metadata": {},
   "outputs": [
    {
     "name": "stdout",
     "output_type": "stream",
     "text": [
      "Mean Absolute Precentage Error for train data=18.251462766772878\n",
      "Mean Absolute Precentage Error for test data=20.77264021718849\n",
      "R^2_score for train data=0.9800991621204542\n",
      "R^2_score for test data=0.8821339922166423\n"
     ]
    }
   ],
   "source": [
    "from sklearn.ensemble import RandomForestRegressor                          #import libraris\n",
    "\n",
    "RF_model= RandomForestRegressor(n_estimators=100).fit(X_train,y_train)      #Random Forest for regression\n",
    "\n",
    "\n",
    "RF_test= RF_model.predict(X_test)                                           #model prediction on test data\n",
    "RF_train= RF_model.predict(X_train)                                         #model prediction on train data\n",
    "\n",
    "\n",
    "MAPE_test= MAPE(y_test,RF_test)                                             #Model performance on test data\n",
    "MAPE_train= MAPE(y_train,RF_train)                                          #Model performance on train data\n",
    "\n",
    "\n",
    "r2_test=r2_score(y_test,RF_test)                                            #r2 value for test data\n",
    "r2_train= r2_score(y_train,RF_train)                                        #r2 value for train data\n",
    "\n",
    "print(\"Mean Absolute Precentage Error for train data=\"+str(MAPE_train))\n",
    "print(\"Mean Absolute Precentage Error for test data=\"+str(MAPE_test))\n",
    "print(\"R^2_score for train data=\"+str(r2_train))\n",
    "print(\"R^2_score for test data=\"+str(r2_test))"
   ]
  },
  {
   "cell_type": "code",
   "execution_count": 70,
   "metadata": {},
   "outputs": [],
   "source": [
    "#result\n",
    "df2= {'Model Name': ['Random Forest '],'MAPE_Train':[MAPE_train],'MAPE_Test':[MAPE_test],'R-squared_Train':[r2_train],\n",
    "      'R-squared_Test':[r2_test]}\n",
    "result2= pd.DataFrame(df2)"
   ]
  },
  {
   "cell_type": "code",
   "execution_count": 71,
   "metadata": {},
   "outputs": [
    {
     "data": {
      "text/html": [
       "<div>\n",
       "<table border=\"1\" class=\"dataframe\">\n",
       "  <thead>\n",
       "    <tr style=\"text-align: right;\">\n",
       "      <th></th>\n",
       "      <th>MAPE_Test</th>\n",
       "      <th>MAPE_Train</th>\n",
       "      <th>Model Name</th>\n",
       "      <th>R-squared_Test</th>\n",
       "      <th>R-squared_Train</th>\n",
       "    </tr>\n",
       "  </thead>\n",
       "  <tbody>\n",
       "    <tr>\n",
       "      <th>0</th>\n",
       "      <td>36.948093</td>\n",
       "      <td>62.260133</td>\n",
       "      <td>Decision Tree</td>\n",
       "      <td>0.646470</td>\n",
       "      <td>0.677563</td>\n",
       "    </tr>\n",
       "    <tr>\n",
       "      <th>0</th>\n",
       "      <td>20.772640</td>\n",
       "      <td>18.251463</td>\n",
       "      <td>Random Forest</td>\n",
       "      <td>0.882134</td>\n",
       "      <td>0.980099</td>\n",
       "    </tr>\n",
       "  </tbody>\n",
       "</table>\n",
       "</div>"
      ],
      "text/plain": [
       "   MAPE_Test  MAPE_Train      Model Name  R-squared_Test  R-squared_Train\n",
       "0  36.948093   62.260133   Decision Tree        0.646470         0.677563\n",
       "0  20.772640   18.251463  Random Forest         0.882134         0.980099"
      ]
     },
     "execution_count": 71,
     "metadata": {},
     "output_type": "execute_result"
    }
   ],
   "source": [
    "#appand the results\n",
    "result= result1.append(result2)\n",
    "result"
   ]
  },
  {
   "cell_type": "markdown",
   "metadata": {},
   "source": [
    "## 2.2.3. Linear Regression"
   ]
  },
  {
   "cell_type": "code",
   "execution_count": 72,
   "metadata": {},
   "outputs": [
    {
     "name": "stdout",
     "output_type": "stream",
     "text": [
      "Mean Absolute Precentage Error for train data=44.44451231255284\n",
      "Mean Absolute Precentage Error for test data=18.800696038206958\n",
      "R^2_score for train data=0.8327600660988469\n",
      "R^2_score for test data=0.8411102698142884\n"
     ]
    }
   ],
   "source": [
    "import statsmodels.api as sm                                              #import libraries\n",
    "\n",
    "LR_model= sm.OLS(y_train,X_train).fit()                                   #Linear Regression model for regression\n",
    "LR_test= LR_model.predict(X_test)                                           #model prediction on test data\n",
    "LR_train= LR_model.predict(X_train)                                         #model prediction on train data\n",
    "\n",
    "MAPE_test= MAPE(y_test,LR_test)                                             #Model performance on test data\n",
    "MAPE_train= MAPE(y_train,LR_train)                                          #Model performance on train data\n",
    "\n",
    "r2_test=r2_score(y_test,LR_test)                                            #r2 value for test data\n",
    "r2_train= r2_score(y_train,LR_train)                                        #r2 value for train data\n",
    "\n",
    "print(\"Mean Absolute Precentage Error for train data=\"+str(MAPE_train))\n",
    "print(\"Mean Absolute Precentage Error for test data=\"+str(MAPE_test))\n",
    "print(\"R^2_score for train data=\"+str(r2_train))\n",
    "print(\"R^2_score for test data=\"+str(r2_test))"
   ]
  },
  {
   "cell_type": "code",
   "execution_count": 73,
   "metadata": {},
   "outputs": [],
   "source": [
    "df3= {'Model Name': ['Linear Regression '],'MAPE_Train':[MAPE_train],'MAPE_Test':[MAPE_test],'R-squared_Train':[r2_train],\n",
    "      'R-squared_Test':[r2_test]}\n",
    "result3= pd.DataFrame(df3)"
   ]
  },
  {
   "cell_type": "code",
   "execution_count": 74,
   "metadata": {},
   "outputs": [
    {
     "data": {
      "text/html": [
       "<div>\n",
       "<table border=\"1\" class=\"dataframe\">\n",
       "  <thead>\n",
       "    <tr style=\"text-align: right;\">\n",
       "      <th></th>\n",
       "      <th>MAPE_Test</th>\n",
       "      <th>MAPE_Train</th>\n",
       "      <th>Model Name</th>\n",
       "      <th>R-squared_Test</th>\n",
       "      <th>R-squared_Train</th>\n",
       "    </tr>\n",
       "  </thead>\n",
       "  <tbody>\n",
       "    <tr>\n",
       "      <th>0</th>\n",
       "      <td>36.948093</td>\n",
       "      <td>62.260133</td>\n",
       "      <td>Decision Tree</td>\n",
       "      <td>0.646470</td>\n",
       "      <td>0.677563</td>\n",
       "    </tr>\n",
       "    <tr>\n",
       "      <th>0</th>\n",
       "      <td>20.772640</td>\n",
       "      <td>18.251463</td>\n",
       "      <td>Random Forest</td>\n",
       "      <td>0.882134</td>\n",
       "      <td>0.980099</td>\n",
       "    </tr>\n",
       "    <tr>\n",
       "      <th>0</th>\n",
       "      <td>18.800696</td>\n",
       "      <td>44.444512</td>\n",
       "      <td>Linear Regression</td>\n",
       "      <td>0.841110</td>\n",
       "      <td>0.832760</td>\n",
       "    </tr>\n",
       "  </tbody>\n",
       "</table>\n",
       "</div>"
      ],
      "text/plain": [
       "   MAPE_Test  MAPE_Train          Model Name  R-squared_Test  R-squared_Train\n",
       "0  36.948093   62.260133       Decision Tree        0.646470         0.677563\n",
       "0  20.772640   18.251463      Random Forest         0.882134         0.980099\n",
       "0  18.800696   44.444512  Linear Regression         0.841110         0.832760"
      ]
     },
     "execution_count": 74,
     "metadata": {},
     "output_type": "execute_result"
    }
   ],
   "source": [
    "result= result.append(result3)\n",
    "result"
   ]
  },
  {
   "cell_type": "markdown",
   "metadata": {},
   "source": [
    "## 2.2.4. Gradient Boosting"
   ]
  },
  {
   "cell_type": "code",
   "execution_count": 75,
   "metadata": {},
   "outputs": [
    {
     "name": "stdout",
     "output_type": "stream",
     "text": [
      "Mean Absolute Precentage Error for train data=44.44451231255284\n",
      "Mean Absolute Precentage Error for test data=11.744814513512651\n",
      "R^2_score for train data=0.9453851786306906\n",
      "R^2_score for test data=0.8650758684985291\n"
     ]
    }
   ],
   "source": [
    "from sklearn.ensemble import GradientBoostingRegressor                      #import libraries\n",
    "\n",
    "GB_model = GradientBoostingRegressor().fit(X_train, y_train)                #Gradient Boosting for regression\n",
    "\n",
    "GB_test= GB_model.predict(X_test)                                           #model prediction on test data\n",
    "GB_train= GB_model.predict(X_train)                                         #model prediction on train data\n",
    "\n",
    "MAPE_test= MAPE(y_test,GB_test)                                             #Model performance on test data\n",
    "MAPE_test= MAPE(y_train,GB_train)                                           #Model performance on train data\n",
    "\n",
    "r2_test=r2_score(y_test,GB_test)                                            #r2 value for test data\n",
    "r2_train= r2_score(y_train,GB_train)                                        #r2 value for train data\n",
    "\n",
    "print(\"Mean Absolute Precentage Error for train data=\"+str(MAPE_train))\n",
    "print(\"Mean Absolute Precentage Error for test data=\"+str(MAPE_test))\n",
    "print(\"R^2_score for train data=\"+str(r2_train))\n",
    "print(\"R^2_score for test data=\"+str(r2_test))"
   ]
  },
  {
   "cell_type": "code",
   "execution_count": 76,
   "metadata": {},
   "outputs": [],
   "source": [
    "df4= {'Model Name': ['Gradient Boosting '],'MAPE_Train':[MAPE_train],'MAPE_Test':[MAPE_test],'R-squared_Train':[r2_train],\n",
    "      'R-squared_Test':[r2_test]}\n",
    "result4= pd.DataFrame(df4)"
   ]
  },
  {
   "cell_type": "code",
   "execution_count": 77,
   "metadata": {},
   "outputs": [
    {
     "data": {
      "text/html": [
       "<div>\n",
       "<table border=\"1\" class=\"dataframe\">\n",
       "  <thead>\n",
       "    <tr style=\"text-align: right;\">\n",
       "      <th></th>\n",
       "      <th>MAPE_Test</th>\n",
       "      <th>MAPE_Train</th>\n",
       "      <th>Model Name</th>\n",
       "      <th>R-squared_Test</th>\n",
       "      <th>R-squared_Train</th>\n",
       "    </tr>\n",
       "  </thead>\n",
       "  <tbody>\n",
       "    <tr>\n",
       "      <th>0</th>\n",
       "      <td>36.948093</td>\n",
       "      <td>62.260133</td>\n",
       "      <td>Decision Tree</td>\n",
       "      <td>0.646470</td>\n",
       "      <td>0.677563</td>\n",
       "    </tr>\n",
       "    <tr>\n",
       "      <th>0</th>\n",
       "      <td>20.772640</td>\n",
       "      <td>18.251463</td>\n",
       "      <td>Random Forest</td>\n",
       "      <td>0.882134</td>\n",
       "      <td>0.980099</td>\n",
       "    </tr>\n",
       "    <tr>\n",
       "      <th>0</th>\n",
       "      <td>18.800696</td>\n",
       "      <td>44.444512</td>\n",
       "      <td>Linear Regression</td>\n",
       "      <td>0.841110</td>\n",
       "      <td>0.832760</td>\n",
       "    </tr>\n",
       "    <tr>\n",
       "      <th>0</th>\n",
       "      <td>11.744815</td>\n",
       "      <td>44.444512</td>\n",
       "      <td>Gradient Boosting</td>\n",
       "      <td>0.865076</td>\n",
       "      <td>0.945385</td>\n",
       "    </tr>\n",
       "  </tbody>\n",
       "</table>\n",
       "</div>"
      ],
      "text/plain": [
       "   MAPE_Test  MAPE_Train          Model Name  R-squared_Test  R-squared_Train\n",
       "0  36.948093   62.260133       Decision Tree        0.646470         0.677563\n",
       "0  20.772640   18.251463      Random Forest         0.882134         0.980099\n",
       "0  18.800696   44.444512  Linear Regression         0.841110         0.832760\n",
       "0  11.744815   44.444512  Gradient Boosting         0.865076         0.945385"
      ]
     },
     "execution_count": 77,
     "metadata": {},
     "output_type": "execute_result"
    }
   ],
   "source": [
    "result= result.append(result4)\n",
    "result"
   ]
  },
  {
   "cell_type": "markdown",
   "metadata": {},
   "source": [
    "## 2.2.2. Hyperparameter Tuning"
   ]
  },
  {
   "cell_type": "markdown",
   "metadata": {},
   "source": [
    "### Random Search CV in Random Forest"
   ]
  },
  {
   "cell_type": "code",
   "execution_count": 78,
   "metadata": {},
   "outputs": [
    {
     "name": "stdout",
     "output_type": "stream",
     "text": [
      "Best Parameter={'n_estimators': 7, 'max_depth': 5}\n",
      "Best Model=RandomForestRegressor(bootstrap=True, criterion='mse', max_depth=5,\n",
      "                      max_features='auto', max_leaf_nodes=None,\n",
      "                      min_impurity_decrease=0.0, min_impurity_split=None,\n",
      "                      min_samples_leaf=1, min_samples_split=2,\n",
      "                      min_weight_fraction_leaf=0.0, n_estimators=7, n_jobs=None,\n",
      "                      oob_score=False, random_state=0, verbose=0,\n",
      "                      warm_start=False)\n",
      "Mean Absolute Precentage Error for train data=31.455186174856415\n",
      "Mean Absolute Precentage Error for test data=23.428615645676306\n",
      "R^2_score for train data=0.8995418019916338\n",
      "R^2_score for test data=0.8349591159418573\n"
     ]
    }
   ],
   "source": [
    "from sklearn.model_selection import RandomizedSearchCV                                  #import libraries\n",
    "\n",
    "RandomRandomForest = RandomForestRegressor(random_state = 0)\n",
    "n_estimator = list(range(1,100,2))\n",
    "depth = list(range(1,20,2))\n",
    "random_search = {'n_estimators':n_estimator, 'max_depth': depth}\n",
    "\n",
    "#Random Grid Random Forest model-\n",
    "RRF_model= RandomizedSearchCV(RandomRandomForest,param_distributions= random_search,n_iter=3,cv=10)\n",
    "RRF_model= RRF_model.fit(X_train,y_train)\n",
    "\n",
    "best_parameters = RRF_model.best_params_                                            #Best parameters for model\n",
    "\n",
    "best_model = RRF_model.best_estimator_                                              #Best model\n",
    "\n",
    "RRF_test = best_model.predict(X_test)                                               #Model prediction on test data\n",
    "RRF_train = best_model.predict(X_train)                                             #Model prediction on train data\n",
    "\n",
    "MAPE_test= MAPE(y_test,RRF_test)                                                    #Model performance on test data\n",
    "MAPE_train= MAPE(y_train,RRF_train)                                                 #Model performance on train data\n",
    "\n",
    "r2_test=r2_score(y_test,RRF_test)                                                   #r2 value for test data\n",
    "r2_train= r2_score(y_train,RRF_train)                                               #r2 value for train data\n",
    "\n",
    "print(\"Best Parameter=\"+str(best_parameters))\n",
    "print(\"Best Model=\"+str(best_model))\n",
    "print(\"Mean Absolute Precentage Error for train data=\"+str(MAPE_train))\n",
    "print(\"Mean Absolute Precentage Error for test data=\"+str(MAPE_test))\n",
    "print(\"R^2_score for train data=\"+str(r2_train))\n",
    "print(\"R^2_score for test data=\"+str(r2_test))"
   ]
  },
  {
   "cell_type": "code",
   "execution_count": 79,
   "metadata": {},
   "outputs": [],
   "source": [
    "df5= {'Model Name': ['Random Search CV in Random Forest '],'MAPE_Train':[MAPE_train],\n",
    "      'MAPE_Test':[MAPE_test],'R-squared_Train':[r2_train],'R-squared_Test':[r2_test]}\n",
    "result5= pd.DataFrame(df5)"
   ]
  },
  {
   "cell_type": "code",
   "execution_count": 80,
   "metadata": {},
   "outputs": [
    {
     "data": {
      "text/html": [
       "<div>\n",
       "<table border=\"1\" class=\"dataframe\">\n",
       "  <thead>\n",
       "    <tr style=\"text-align: right;\">\n",
       "      <th></th>\n",
       "      <th>MAPE_Test</th>\n",
       "      <th>MAPE_Train</th>\n",
       "      <th>Model Name</th>\n",
       "      <th>R-squared_Test</th>\n",
       "      <th>R-squared_Train</th>\n",
       "    </tr>\n",
       "  </thead>\n",
       "  <tbody>\n",
       "    <tr>\n",
       "      <th>0</th>\n",
       "      <td>36.948093</td>\n",
       "      <td>62.260133</td>\n",
       "      <td>Decision Tree</td>\n",
       "      <td>0.646470</td>\n",
       "      <td>0.677563</td>\n",
       "    </tr>\n",
       "    <tr>\n",
       "      <th>0</th>\n",
       "      <td>20.772640</td>\n",
       "      <td>18.251463</td>\n",
       "      <td>Random Forest</td>\n",
       "      <td>0.882134</td>\n",
       "      <td>0.980099</td>\n",
       "    </tr>\n",
       "    <tr>\n",
       "      <th>0</th>\n",
       "      <td>18.800696</td>\n",
       "      <td>44.444512</td>\n",
       "      <td>Linear Regression</td>\n",
       "      <td>0.841110</td>\n",
       "      <td>0.832760</td>\n",
       "    </tr>\n",
       "    <tr>\n",
       "      <th>0</th>\n",
       "      <td>11.744815</td>\n",
       "      <td>44.444512</td>\n",
       "      <td>Gradient Boosting</td>\n",
       "      <td>0.865076</td>\n",
       "      <td>0.945385</td>\n",
       "    </tr>\n",
       "    <tr>\n",
       "      <th>0</th>\n",
       "      <td>23.428616</td>\n",
       "      <td>31.455186</td>\n",
       "      <td>Random Search CV in Random Forest</td>\n",
       "      <td>0.834959</td>\n",
       "      <td>0.899542</td>\n",
       "    </tr>\n",
       "  </tbody>\n",
       "</table>\n",
       "</div>"
      ],
      "text/plain": [
       "   MAPE_Test  MAPE_Train                          Model Name  R-squared_Test  \\\n",
       "0  36.948093   62.260133                       Decision Tree        0.646470   \n",
       "0  20.772640   18.251463                      Random Forest         0.882134   \n",
       "0  18.800696   44.444512                  Linear Regression         0.841110   \n",
       "0  11.744815   44.444512                  Gradient Boosting         0.865076   \n",
       "0  23.428616   31.455186  Random Search CV in Random Forest         0.834959   \n",
       "\n",
       "   R-squared_Train  \n",
       "0         0.677563  \n",
       "0         0.980099  \n",
       "0         0.832760  \n",
       "0         0.945385  \n",
       "0         0.899542  "
      ]
     },
     "execution_count": 80,
     "metadata": {},
     "output_type": "execute_result"
    }
   ],
   "source": [
    "result= result.append(result5)\n",
    "result"
   ]
  },
  {
   "cell_type": "markdown",
   "metadata": {},
   "source": [
    "### Grid Search CV in Random Forest"
   ]
  },
  {
   "cell_type": "code",
   "execution_count": 81,
   "metadata": {},
   "outputs": [
    {
     "name": "stdout",
     "output_type": "stream",
     "text": [
      "Best Parameter={'max_depth': 9, 'n_estimators': 17}\n",
      "Best Model=RandomForestRegressor(bootstrap=True, criterion='mse', max_depth=9,\n",
      "                      max_features='auto', max_leaf_nodes=None,\n",
      "                      min_impurity_decrease=0.0, min_impurity_split=None,\n",
      "                      min_samples_leaf=1, min_samples_split=2,\n",
      "                      min_weight_fraction_leaf=0.0, n_estimators=17,\n",
      "                      n_jobs=None, oob_score=False, random_state=0, verbose=0,\n",
      "                      warm_start=False)\n",
      "Mean Absolute Precentage Error for train data=21.314451754065416\n",
      "Mean Absolute Precentage Error for test data=20.556714601464996\n",
      "R^2_score for train data=0.9648364550539172\n",
      "R^2_score for test data=0.8755788959468711\n"
     ]
    },
    {
     "name": "stderr",
     "output_type": "stream",
     "text": [
      "C:\\Users\\LENOVO\\Anaconda3\\lib\\site-packages\\sklearn\\model_selection\\_search.py:813: DeprecationWarning: The default of the `iid` parameter will change from True to False in version 0.22 and will be removed in 0.24. This will change numeric results when test-set sizes are unequal.\n",
      "  DeprecationWarning)\n"
     ]
    }
   ],
   "source": [
    "from sklearn.model_selection import GridSearchCV                                  #import libraries\n",
    "\n",
    "GridRandomForest= RandomForestRegressor(random_state=0)\n",
    "n_estimator = list(range(1,20,2))\n",
    "depth= list(range(1,20,2))\n",
    "grid_search= {'n_estimators':n_estimator, 'max_depth': depth}\n",
    "\n",
    "#Grid Search CV Random Forest model-\n",
    "GRF_model= GridSearchCV(GridRandomForest,param_grid=grid_search,cv=10)\n",
    "GRF_model= GRF_model.fit(X_train,y_train)\n",
    "\n",
    "best_parameters = GRF_model.best_params_                                        #Best parameters for model\n",
    "\n",
    "best_model = GRF_model.best_estimator_                                          #Best model\n",
    "\n",
    "GRF_test = best_model.predict(X_test)                                           #Model prediction on test data\n",
    "GRF_train = best_model.predict(X_train)                                         #Model prediction on train data\n",
    "\n",
    "MAPE_test= MAPE(y_test,GRF_test)                                                #Model performance on test data\n",
    "MAPE_train= MAPE(y_train,GRF_train)                                             #Model performance on train data\n",
    "\n",
    "r2_test=r2_score(y_test,GRF_test)                                               #r2 value for test data\n",
    "r2_train= r2_score(y_train,GRF_train)                                           #r2 value for train data\n",
    "\n",
    "print(\"Best Parameter=\"+str(best_parameters))\n",
    "print(\"Best Model=\"+str(best_model))\n",
    "print(\"Mean Absolute Precentage Error for train data=\"+str(MAPE_train))\n",
    "print(\"Mean Absolute Precentage Error for test data=\"+str(MAPE_test))\n",
    "print(\"R^2_score for train data=\"+str(r2_train))\n",
    "print(\"R^2_score for test data=\"+str(r2_test))"
   ]
  },
  {
   "cell_type": "code",
   "execution_count": 82,
   "metadata": {},
   "outputs": [],
   "source": [
    "df6= {'Model Name': ['Grid Search CV in Random Forest '],'MAPE_Train':[MAPE_train],'MAPE_Test':[MAPE_test],\n",
    "      'R-squared_Train':[r2_train],'R-squared_Test':[r2_test]}\n",
    "result6= pd.DataFrame(df6)"
   ]
  },
  {
   "cell_type": "code",
   "execution_count": 83,
   "metadata": {},
   "outputs": [
    {
     "data": {
      "text/html": [
       "<div>\n",
       "<table border=\"1\" class=\"dataframe\">\n",
       "  <thead>\n",
       "    <tr style=\"text-align: right;\">\n",
       "      <th></th>\n",
       "      <th>MAPE_Test</th>\n",
       "      <th>MAPE_Train</th>\n",
       "      <th>Model Name</th>\n",
       "      <th>R-squared_Test</th>\n",
       "      <th>R-squared_Train</th>\n",
       "    </tr>\n",
       "  </thead>\n",
       "  <tbody>\n",
       "    <tr>\n",
       "      <th>0</th>\n",
       "      <td>36.948093</td>\n",
       "      <td>62.260133</td>\n",
       "      <td>Decision Tree</td>\n",
       "      <td>0.646470</td>\n",
       "      <td>0.677563</td>\n",
       "    </tr>\n",
       "    <tr>\n",
       "      <th>0</th>\n",
       "      <td>20.772640</td>\n",
       "      <td>18.251463</td>\n",
       "      <td>Random Forest</td>\n",
       "      <td>0.882134</td>\n",
       "      <td>0.980099</td>\n",
       "    </tr>\n",
       "    <tr>\n",
       "      <th>0</th>\n",
       "      <td>18.800696</td>\n",
       "      <td>44.444512</td>\n",
       "      <td>Linear Regression</td>\n",
       "      <td>0.841110</td>\n",
       "      <td>0.832760</td>\n",
       "    </tr>\n",
       "    <tr>\n",
       "      <th>0</th>\n",
       "      <td>11.744815</td>\n",
       "      <td>44.444512</td>\n",
       "      <td>Gradient Boosting</td>\n",
       "      <td>0.865076</td>\n",
       "      <td>0.945385</td>\n",
       "    </tr>\n",
       "    <tr>\n",
       "      <th>0</th>\n",
       "      <td>23.428616</td>\n",
       "      <td>31.455186</td>\n",
       "      <td>Random Search CV in Random Forest</td>\n",
       "      <td>0.834959</td>\n",
       "      <td>0.899542</td>\n",
       "    </tr>\n",
       "    <tr>\n",
       "      <th>0</th>\n",
       "      <td>20.556715</td>\n",
       "      <td>21.314452</td>\n",
       "      <td>Grid Search CV in Random Forest</td>\n",
       "      <td>0.875579</td>\n",
       "      <td>0.964836</td>\n",
       "    </tr>\n",
       "  </tbody>\n",
       "</table>\n",
       "</div>"
      ],
      "text/plain": [
       "   MAPE_Test  MAPE_Train                          Model Name  R-squared_Test  \\\n",
       "0  36.948093   62.260133                       Decision Tree        0.646470   \n",
       "0  20.772640   18.251463                      Random Forest         0.882134   \n",
       "0  18.800696   44.444512                  Linear Regression         0.841110   \n",
       "0  11.744815   44.444512                  Gradient Boosting         0.865076   \n",
       "0  23.428616   31.455186  Random Search CV in Random Forest         0.834959   \n",
       "0  20.556715   21.314452    Grid Search CV in Random Forest         0.875579   \n",
       "\n",
       "   R-squared_Train  \n",
       "0         0.677563  \n",
       "0         0.980099  \n",
       "0         0.832760  \n",
       "0         0.945385  \n",
       "0         0.899542  \n",
       "0         0.964836  "
      ]
     },
     "execution_count": 83,
     "metadata": {},
     "output_type": "execute_result"
    }
   ],
   "source": [
    "result= result.append(result6)\n",
    "result"
   ]
  },
  {
   "cell_type": "markdown",
   "metadata": {},
   "source": [
    "### Random Search CV in Gradient Boosting"
   ]
  },
  {
   "cell_type": "code",
   "execution_count": 84,
   "metadata": {},
   "outputs": [
    {
     "name": "stdout",
     "output_type": "stream",
     "text": [
      "Best Parameter={'n_estimators': 91, 'max_depth': 5}\n",
      "Best Model=GradientBoostingRegressor(alpha=0.9, criterion='friedman_mse', init=None,\n",
      "                          learning_rate=0.1, loss='ls', max_depth=5,\n",
      "                          max_features=None, max_leaf_nodes=None,\n",
      "                          min_impurity_decrease=0.0, min_impurity_split=None,\n",
      "                          min_samples_leaf=1, min_samples_split=2,\n",
      "                          min_weight_fraction_leaf=0.0, n_estimators=91,\n",
      "                          n_iter_no_change=None, presort='auto', random_state=0,\n",
      "                          subsample=1.0, tol=0.0001, validation_fraction=0.1,\n",
      "                          verbose=0, warm_start=False)\n",
      "Mean Absolute Precentage Error for train data=4.850953429555899\n",
      "Mean Absolute Precentage Error for test data=20.550809387654315\n",
      "R^2_score for train data=0.9865340617434155\n",
      "R^2_score for test data=0.8718793668366579\n"
     ]
    }
   ],
   "source": [
    "from sklearn.model_selection import RandomizedSearchCV                             #import libraries\n",
    "\n",
    "RandomGradientBoosting = GradientBoostingRegressor(random_state = 0)\n",
    "n_estimator = list(range(1,100,2))\n",
    "depth = list(range(1,20,2))\n",
    "random_search = {'n_estimators':n_estimator, 'max_depth': depth}\n",
    "\n",
    "#Random Gradient Boosting model-\n",
    "RGB_model= RandomizedSearchCV(RandomGradientBoosting,param_distributions= random_search,n_iter=3,cv=10)\n",
    "RGB_model= RGB_model.fit(X_train,y_train)\n",
    "\n",
    "best_parameters = RGB_model.best_params_                                          #Best parameters for model\n",
    "best_model = RGB_model.best_estimator_                                            #Best model\n",
    "\n",
    "RGB_test = best_model.predict(X_test)                                             #Model prediction on test data\n",
    "RGB_train = best_model.predict(X_train)                                           #Model prediction on train data\n",
    "\n",
    "MAPE_test= MAPE(y_test,RGB_test)                                                  #Model performance on test data\n",
    "MAPE_train= MAPE(y_train,RGB_train)                                               #Model performance on train data\n",
    "\n",
    "r2_test=r2_score(y_test,RGB_test)                                                 #r2 value for test data\n",
    "r2_train= r2_score(y_train,RGB_train)                                             #r2 value for train data\n",
    "\n",
    "print(\"Best Parameter=\"+str(best_parameters))\n",
    "print(\"Best Model=\"+str(best_model))\n",
    "print(\"Mean Absolute Precentage Error for train data=\"+str(MAPE_train))\n",
    "print(\"Mean Absolute Precentage Error for test data=\"+str(MAPE_test))\n",
    "print(\"R^2_score for train data=\"+str(r2_train))\n",
    "print(\"R^2_score for test data=\"+str(r2_test))"
   ]
  },
  {
   "cell_type": "code",
   "execution_count": 85,
   "metadata": {},
   "outputs": [],
   "source": [
    "df7= {'Model Name': ['Random Search CV in Gradient Boosting '],'MAPE_Train':[MAPE_train],'MAPE_Test':[MAPE_test],\n",
    "      'R-squared_Train':[r2_train],'R-squared_Test':[r2_test]}\n",
    "result7= pd.DataFrame(df7)"
   ]
  },
  {
   "cell_type": "code",
   "execution_count": 86,
   "metadata": {},
   "outputs": [
    {
     "data": {
      "text/html": [
       "<div>\n",
       "<table border=\"1\" class=\"dataframe\">\n",
       "  <thead>\n",
       "    <tr style=\"text-align: right;\">\n",
       "      <th></th>\n",
       "      <th>MAPE_Test</th>\n",
       "      <th>MAPE_Train</th>\n",
       "      <th>Model Name</th>\n",
       "      <th>R-squared_Test</th>\n",
       "      <th>R-squared_Train</th>\n",
       "    </tr>\n",
       "  </thead>\n",
       "  <tbody>\n",
       "    <tr>\n",
       "      <th>0</th>\n",
       "      <td>36.948093</td>\n",
       "      <td>62.260133</td>\n",
       "      <td>Decision Tree</td>\n",
       "      <td>0.646470</td>\n",
       "      <td>0.677563</td>\n",
       "    </tr>\n",
       "    <tr>\n",
       "      <th>0</th>\n",
       "      <td>20.772640</td>\n",
       "      <td>18.251463</td>\n",
       "      <td>Random Forest</td>\n",
       "      <td>0.882134</td>\n",
       "      <td>0.980099</td>\n",
       "    </tr>\n",
       "    <tr>\n",
       "      <th>0</th>\n",
       "      <td>18.800696</td>\n",
       "      <td>44.444512</td>\n",
       "      <td>Linear Regression</td>\n",
       "      <td>0.841110</td>\n",
       "      <td>0.832760</td>\n",
       "    </tr>\n",
       "    <tr>\n",
       "      <th>0</th>\n",
       "      <td>11.744815</td>\n",
       "      <td>44.444512</td>\n",
       "      <td>Gradient Boosting</td>\n",
       "      <td>0.865076</td>\n",
       "      <td>0.945385</td>\n",
       "    </tr>\n",
       "    <tr>\n",
       "      <th>0</th>\n",
       "      <td>23.428616</td>\n",
       "      <td>31.455186</td>\n",
       "      <td>Random Search CV in Random Forest</td>\n",
       "      <td>0.834959</td>\n",
       "      <td>0.899542</td>\n",
       "    </tr>\n",
       "    <tr>\n",
       "      <th>0</th>\n",
       "      <td>20.556715</td>\n",
       "      <td>21.314452</td>\n",
       "      <td>Grid Search CV in Random Forest</td>\n",
       "      <td>0.875579</td>\n",
       "      <td>0.964836</td>\n",
       "    </tr>\n",
       "    <tr>\n",
       "      <th>0</th>\n",
       "      <td>20.550809</td>\n",
       "      <td>4.850953</td>\n",
       "      <td>Random Search CV in Gradient Boosting</td>\n",
       "      <td>0.871879</td>\n",
       "      <td>0.986534</td>\n",
       "    </tr>\n",
       "  </tbody>\n",
       "</table>\n",
       "</div>"
      ],
      "text/plain": [
       "   MAPE_Test  MAPE_Train                              Model Name  \\\n",
       "0  36.948093   62.260133                           Decision Tree   \n",
       "0  20.772640   18.251463                          Random Forest    \n",
       "0  18.800696   44.444512                      Linear Regression    \n",
       "0  11.744815   44.444512                      Gradient Boosting    \n",
       "0  23.428616   31.455186      Random Search CV in Random Forest    \n",
       "0  20.556715   21.314452        Grid Search CV in Random Forest    \n",
       "0  20.550809    4.850953  Random Search CV in Gradient Boosting    \n",
       "\n",
       "   R-squared_Test  R-squared_Train  \n",
       "0        0.646470         0.677563  \n",
       "0        0.882134         0.980099  \n",
       "0        0.841110         0.832760  \n",
       "0        0.865076         0.945385  \n",
       "0        0.834959         0.899542  \n",
       "0        0.875579         0.964836  \n",
       "0        0.871879         0.986534  "
      ]
     },
     "execution_count": 86,
     "metadata": {},
     "output_type": "execute_result"
    }
   ],
   "source": [
    "result= result.append(result7)\n",
    "result"
   ]
  },
  {
   "cell_type": "markdown",
   "metadata": {},
   "source": [
    "### Grid Search CV in Gradient Boosting"
   ]
  },
  {
   "cell_type": "code",
   "execution_count": 87,
   "metadata": {},
   "outputs": [
    {
     "name": "stdout",
     "output_type": "stream",
     "text": [
      "Best Parameter={'max_depth': 5, 'n_estimators': 19}\n",
      "Best Model=GradientBoostingRegressor(alpha=0.9, criterion='friedman_mse', init=None,\n",
      "                          learning_rate=0.1, loss='ls', max_depth=5,\n",
      "                          max_features=None, max_leaf_nodes=None,\n",
      "                          min_impurity_decrease=0.0, min_impurity_split=None,\n",
      "                          min_samples_leaf=1, min_samples_split=2,\n",
      "                          min_weight_fraction_leaf=0.0, n_estimators=19,\n",
      "                          n_iter_no_change=None, presort='auto', random_state=0,\n",
      "                          subsample=1.0, tol=0.0001, validation_fraction=0.1,\n",
      "                          verbose=0, warm_start=False)\n",
      "Mean Absolute Precentage Error for train data=18.833447720956062\n",
      "Mean Absolute Precentage Error for test data=25.485646188467083\n",
      "R^2_score for train data=0.9221138936676011\n",
      "R^2_score for test data=0.8337462222690681\n"
     ]
    }
   ],
   "source": [
    "from sklearn.model_selection import GridSearchCV                                        #import libraries\n",
    "\n",
    "GridGradientBoosting= GradientBoostingRegressor(random_state=0)\n",
    "n_estimator = list(range(1,20,2))\n",
    "depth= list(range(1,20,2))\n",
    "grid_search= {'n_estimators':n_estimator, 'max_depth': depth}\n",
    "\n",
    "GGB_model= GridSearchCV(GridGradientBoosting,param_grid=grid_search,cv=5)               #Grid Random Forest model\n",
    "GGB_model= GGB_model.fit(X_train,y_train)\n",
    "\n",
    "best_parameters = GGB_model.best_params_                                                #Best parameters for model\n",
    "best_model = GGB_model.best_estimator_                                                  #Best model\n",
    "\n",
    "GGB_test = best_model.predict(X_test)                                                   #Model prediction on test data\n",
    "GGB_train = best_model.predict(X_train)                                                 #Model prediction on train data\n",
    "\n",
    "MAPE_test= MAPE(y_test,GGB_test)                                                        #Model performance on test data\n",
    "MAPE_train= MAPE(y_train,GGB_train)                                                     #Model performance on train data\n",
    "\n",
    "r2_test=r2_score(y_test,GGB_test)                                                       #r2 value for test data\n",
    "r2_train= r2_score(y_train,GGB_train)                                                   #r2 value for train data\n",
    "\n",
    "print(\"Best Parameter=\"+str(best_parameters))\n",
    "print(\"Best Model=\"+str(best_model))\n",
    "print(\"Mean Absolute Precentage Error for train data=\"+str(MAPE_train))\n",
    "print(\"Mean Absolute Precentage Error for test data=\"+str(MAPE_test))\n",
    "print(\"R^2_score for train data=\"+str(r2_train))\n",
    "print(\"R^2_score for test data=\"+str(r2_test))"
   ]
  },
  {
   "cell_type": "code",
   "execution_count": 88,
   "metadata": {},
   "outputs": [],
   "source": [
    "df8= {'Model Name': ['Grid Search CV in Gradient Booster '],'MAPE_Train':[MAPE_train],'MAPE_Test':[MAPE_test],\n",
    "      'R-squared_Train':[r2_train],'R-squared_Test':[r2_test]}\n",
    "result8= pd.DataFrame(df8)"
   ]
  },
  {
   "cell_type": "code",
   "execution_count": 89,
   "metadata": {},
   "outputs": [
    {
     "data": {
      "text/html": [
       "<div>\n",
       "<table border=\"1\" class=\"dataframe\">\n",
       "  <thead>\n",
       "    <tr style=\"text-align: right;\">\n",
       "      <th></th>\n",
       "      <th>MAPE_Test</th>\n",
       "      <th>MAPE_Train</th>\n",
       "      <th>Model Name</th>\n",
       "      <th>R-squared_Test</th>\n",
       "      <th>R-squared_Train</th>\n",
       "    </tr>\n",
       "  </thead>\n",
       "  <tbody>\n",
       "    <tr>\n",
       "      <th>0</th>\n",
       "      <td>36.948093</td>\n",
       "      <td>62.260133</td>\n",
       "      <td>Decision Tree</td>\n",
       "      <td>0.646470</td>\n",
       "      <td>0.677563</td>\n",
       "    </tr>\n",
       "    <tr>\n",
       "      <th>0</th>\n",
       "      <td>20.772640</td>\n",
       "      <td>18.251463</td>\n",
       "      <td>Random Forest</td>\n",
       "      <td>0.882134</td>\n",
       "      <td>0.980099</td>\n",
       "    </tr>\n",
       "    <tr>\n",
       "      <th>0</th>\n",
       "      <td>18.800696</td>\n",
       "      <td>44.444512</td>\n",
       "      <td>Linear Regression</td>\n",
       "      <td>0.841110</td>\n",
       "      <td>0.832760</td>\n",
       "    </tr>\n",
       "    <tr>\n",
       "      <th>0</th>\n",
       "      <td>11.744815</td>\n",
       "      <td>44.444512</td>\n",
       "      <td>Gradient Boosting</td>\n",
       "      <td>0.865076</td>\n",
       "      <td>0.945385</td>\n",
       "    </tr>\n",
       "    <tr>\n",
       "      <th>0</th>\n",
       "      <td>23.428616</td>\n",
       "      <td>31.455186</td>\n",
       "      <td>Random Search CV in Random Forest</td>\n",
       "      <td>0.834959</td>\n",
       "      <td>0.899542</td>\n",
       "    </tr>\n",
       "    <tr>\n",
       "      <th>0</th>\n",
       "      <td>20.556715</td>\n",
       "      <td>21.314452</td>\n",
       "      <td>Grid Search CV in Random Forest</td>\n",
       "      <td>0.875579</td>\n",
       "      <td>0.964836</td>\n",
       "    </tr>\n",
       "    <tr>\n",
       "      <th>0</th>\n",
       "      <td>20.550809</td>\n",
       "      <td>4.850953</td>\n",
       "      <td>Random Search CV in Gradient Boosting</td>\n",
       "      <td>0.871879</td>\n",
       "      <td>0.986534</td>\n",
       "    </tr>\n",
       "    <tr>\n",
       "      <th>0</th>\n",
       "      <td>25.485646</td>\n",
       "      <td>18.833448</td>\n",
       "      <td>Grid Search CV in Gradient Booster</td>\n",
       "      <td>0.833746</td>\n",
       "      <td>0.922114</td>\n",
       "    </tr>\n",
       "  </tbody>\n",
       "</table>\n",
       "</div>"
      ],
      "text/plain": [
       "   MAPE_Test  MAPE_Train                              Model Name  \\\n",
       "0  36.948093   62.260133                           Decision Tree   \n",
       "0  20.772640   18.251463                          Random Forest    \n",
       "0  18.800696   44.444512                      Linear Regression    \n",
       "0  11.744815   44.444512                      Gradient Boosting    \n",
       "0  23.428616   31.455186      Random Search CV in Random Forest    \n",
       "0  20.556715   21.314452        Grid Search CV in Random Forest    \n",
       "0  20.550809    4.850953  Random Search CV in Gradient Boosting    \n",
       "0  25.485646   18.833448     Grid Search CV in Gradient Booster    \n",
       "\n",
       "   R-squared_Test  R-squared_Train  \n",
       "0        0.646470         0.677563  \n",
       "0        0.882134         0.980099  \n",
       "0        0.841110         0.832760  \n",
       "0        0.865076         0.945385  \n",
       "0        0.834959         0.899542  \n",
       "0        0.875579         0.964836  \n",
       "0        0.871879         0.986534  \n",
       "0        0.833746         0.922114  "
      ]
     },
     "execution_count": 89,
     "metadata": {},
     "output_type": "execute_result"
    }
   ],
   "source": [
    "result= result.append(result8)\n",
    "result"
   ]
  }
 ],
 "metadata": {
  "kernelspec": {
   "display_name": "Python 3",
   "language": "python",
   "name": "python3"
  },
  "language_info": {
   "codemirror_mode": {
    "name": "ipython",
    "version": 3
   },
   "file_extension": ".py",
   "mimetype": "text/x-python",
   "name": "python",
   "nbconvert_exporter": "python",
   "pygments_lexer": "ipython3",
   "version": "3.6.8"
  }
 },
 "nbformat": 4,
 "nbformat_minor": 2
}
